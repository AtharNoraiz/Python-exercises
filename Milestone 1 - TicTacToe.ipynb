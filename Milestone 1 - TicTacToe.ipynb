{
 "cells": [
  {
   "cell_type": "markdown",
   "metadata": {},
   "source": [
    "# Tic Tac Toe Milestone Project game (Python)\n"
   ]
  },
  {
   "cell_type": "markdown",
   "metadata": {},
   "source": [
    "## A function that can print out a board. Set up the board as a list."
   ]
  },
  {
   "cell_type": "code",
   "execution_count": 3,
   "metadata": {
    "collapsed": false
   },
   "outputs": [],
   "source": [
    "# Clearning the screen between moves\n",
    "from IPython.display import clear_output\n",
    "\n",
    "def display_board(board):\n",
    "    #board = ['#','X','O','X','O','X','O','X','O','X']\n",
    "    print('\\n')\n",
    "    for i in range(1,10):\n",
    "        print(board[i], end=\" \")\n",
    "        if i % 3 == 0:\n",
    "            print('\\n')\n",
    "    clear_output"
   ]
  },
  {
   "cell_type": "code",
   "execution_count": 4,
   "metadata": {
    "collapsed": false
   },
   "outputs": [
    {
     "name": "stdout",
     "output_type": "stream",
     "text": [
      "\n",
      "\n",
      "X O X \n",
      "\n",
      "O X O \n",
      "\n",
      "X O X \n",
      "\n"
     ]
    }
   ],
   "source": [
    "test_board = ['#','X','O','X','O','X','O','X','O','X']\n",
    "display_board(test_board)\n"
   ]
  },
  {
   "cell_type": "markdown",
   "metadata": {},
   "source": [
    "## A function that can take in a player input and assign their marker as 'X' or 'O'."
   ]
  },
  {
   "cell_type": "code",
   "execution_count": 6,
   "metadata": {
    "collapsed": false
   },
   "outputs": [],
   "source": [
    "# Function that takes in a player input\n",
    "def player_input(playerfirst):\n",
    "    marker1 = input(\"Player {}, please choose a marker 'X' or 'O' \".format(playerfirst))\n",
    "    while marker1 not in ['X','O']:\n",
    "        marker1 = input(\"Incorrect input. Player {}, Please choose a marker 'X' or 'O' \".format(playerfirst))\n",
    "    \n",
    "    if playerfirst == 1:\n",
    "        playersecond = 2\n",
    "    elif playerfirst == 2:\n",
    "        playersecond = 1\n",
    "    if marker1 == 'X':\n",
    "        marker2 = 'O'\n",
    "    elif marker1 == 'O':\n",
    "        marker2 = 'X'\n",
    "        \n",
    "        \n",
    "    return [[playerfirst,marker1],[playersecond,marker2]]"
   ]
  },
  {
   "cell_type": "code",
   "execution_count": 7,
   "metadata": {
    "collapsed": false
   },
   "outputs": [
    {
     "name": "stdout",
     "output_type": "stream",
     "text": [
      "Player 2, please choose a marker 'X' or 'O' X\n",
      "X\n"
     ]
    }
   ],
   "source": [
    "players = player_input(2)\n",
    "print(players[0][1])\n",
    "\n"
   ]
  },
  {
   "cell_type": "markdown",
   "metadata": {},
   "source": [
    "## A function that takes in the board list object, a marker ('X' or 'O'), and a desired position (number 1-9) and assigns it to the board."
   ]
  },
  {
   "cell_type": "code",
   "execution_count": 8,
   "metadata": {
    "collapsed": true
   },
   "outputs": [],
   "source": [
    "def place_marker(board, marker, position):\n",
    "    board[position] = marker\n",
    "    return board "
   ]
  },
  {
   "cell_type": "code",
   "execution_count": 9,
   "metadata": {
    "collapsed": false
   },
   "outputs": [
    {
     "name": "stdout",
     "output_type": "stream",
     "text": [
      "\n",
      "\n",
      "- - - \n",
      "\n",
      "- - - \n",
      "\n",
      "- $ - \n",
      "\n"
     ]
    }
   ],
   "source": [
    "place_marker(test_board,'$',8)\n",
    "display_board(test_board)"
   ]
  },
  {
   "cell_type": "markdown",
   "metadata": {},
   "source": [
    "## A function that takes in a board and a mark (X or O) and then checks to see if that mark has won"
   ]
  },
  {
   "cell_type": "code",
   "execution_count": 10,
   "metadata": {
    "collapsed": false
   },
   "outputs": [],
   "source": [
    "def win_check(board, player_individual):\n",
    "    playerNum = player_individual[0]\n",
    "    mark = player_individual[1]\n",
    "    mark_indx = [i for i,val in enumerate(board) if val == mark]\n",
    "    win_list = [[1,2,3],[4,5,6],[1,2,3],[4,5,6],[7,8,9],[1,4,7],[2,5,8],[3,6,9],[1,5,9],[3,5,7]]\n",
    "    #print(list(map(lambda i: set(i).issubset(set(mark_indx)), win_list)))\n",
    "    # Returns true if any of the elements is true in the list\n",
    "    if any(list(map(lambda i: set(i).issubset(set(mark_indx)), win_list))):\n",
    "        print('Player {} wins! '.format(playerNum))\n",
    "    return any(list(map(lambda i: set(i).issubset(set(mark_indx)), win_list)))"
   ]
  },
  {
   "cell_type": "code",
   "execution_count": 11,
   "metadata": {
    "collapsed": false
   },
   "outputs": [
    {
     "data": {
      "text/plain": [
       "False"
      ]
     },
     "execution_count": 11,
     "metadata": {},
     "output_type": "execute_result"
    }
   ],
   "source": [
    "win_check(test_board,[1,'X'])"
   ]
  },
  {
   "cell_type": "code",
   "execution_count": 12,
   "metadata": {
    "collapsed": false
   },
   "outputs": [
    {
     "data": {
      "text/plain": [
       "False"
      ]
     },
     "execution_count": 12,
     "metadata": {},
     "output_type": "execute_result"
    }
   ],
   "source": [
    "win_check(test_board,[2,'X'])"
   ]
  },
  {
   "cell_type": "markdown",
   "metadata": {},
   "source": [
    "## A function that uses the random module to randomly decide which player goes first. Returns a string of which player went first."
   ]
  },
  {
   "cell_type": "code",
   "execution_count": 13,
   "metadata": {
    "collapsed": false
   },
   "outputs": [],
   "source": [
    "#Random module to randomly decide which player goes first\n",
    "import random\n",
    "\n",
    "def choose_first():\n",
    "    random_int = random.randint(1,10)\n",
    "    if random_int <= 5:\n",
    "        print('Player 1 goes first ')\n",
    "        playerfirst = 1\n",
    "    else:\n",
    "        print('Player 2 goes first ')\n",
    "        playerfirst = 2\n",
    "    return playerfirst"
   ]
  },
  {
   "cell_type": "code",
   "execution_count": 14,
   "metadata": {
    "collapsed": false
   },
   "outputs": [
    {
     "name": "stdout",
     "output_type": "stream",
     "text": [
      "Player 2 goes first \n"
     ]
    },
    {
     "data": {
      "text/plain": [
       "2"
      ]
     },
     "execution_count": 14,
     "metadata": {},
     "output_type": "execute_result"
    }
   ],
   "source": [
    "choose_first()"
   ]
  },
  {
   "cell_type": "markdown",
   "metadata": {},
   "source": [
    "## A function that returns a boolean indicating whether a space on the board is freely available"
   ]
  },
  {
   "cell_type": "code",
   "execution_count": 15,
   "metadata": {
    "collapsed": true
   },
   "outputs": [],
   "source": [
    "def space_check(board,position):\n",
    "    return not board[position] in ['X','O'] "
   ]
  },
  {
   "cell_type": "code",
   "execution_count": 16,
   "metadata": {
    "collapsed": false
   },
   "outputs": [
    {
     "data": {
      "text/plain": [
       "True"
      ]
     },
     "execution_count": 16,
     "metadata": {},
     "output_type": "execute_result"
    }
   ],
   "source": [
    "space_check(test_board,2)"
   ]
  },
  {
   "cell_type": "markdown",
   "metadata": {},
   "source": [
    "## A function that asks for a player's next position (as a number 1-9) and then uses the space_check function to check if it's a free position. If it is, then return the position for later use."
   ]
  },
  {
   "cell_type": "code",
   "execution_count": 17,
   "metadata": {
    "collapsed": true
   },
   "outputs": [],
   "source": [
    "def player_choice(board, player):\n",
    "    position = int(input('Player {}, please enter a number '.format(player)))\n",
    "    while not space_check(board,position):\n",
    "        position = int(input('Position already filled. Player {}, please enter a different number '.format(player)))\n",
    "        if space_check(board,position):\n",
    "            break\n",
    "    return position\n",
    "        "
   ]
  },
  {
   "cell_type": "code",
   "execution_count": 20,
   "metadata": {
    "collapsed": false
   },
   "outputs": [
    {
     "name": "stdout",
     "output_type": "stream",
     "text": [
      "Player [1, 'X'], please enter a number 2\n"
     ]
    },
    {
     "data": {
      "text/plain": [
       "2"
      ]
     },
     "execution_count": 20,
     "metadata": {},
     "output_type": "execute_result"
    }
   ],
   "source": [
    "player_choice(test_board, [1,'X'])"
   ]
  },
  {
   "cell_type": "markdown",
   "metadata": {},
   "source": [
    "## A function that checks if the board is full and returns a boolean value. True if full, False otherwise."
   ]
  },
  {
   "cell_type": "code",
   "execution_count": 21,
   "metadata": {
    "collapsed": false
   },
   "outputs": [],
   "source": [
    "def full_board_check(board):\n",
    "    #print(list(map(lambda position: space_check(board,position), [1,2,3,4,5,6,7,8,9])))\n",
    "    if not any(list(map(lambda position: space_check(board,position), [1,2,3,4,5,6,7,8,9]))):\n",
    "        print('All positions filled. Tie game! ')\n",
    "    return not any(list(map(lambda position: space_check(board,position), [1,2,3,4,5,6,7,8,9])))"
   ]
  },
  {
   "cell_type": "code",
   "execution_count": 22,
   "metadata": {
    "collapsed": false
   },
   "outputs": [
    {
     "data": {
      "text/plain": [
       "False"
      ]
     },
     "execution_count": 22,
     "metadata": {},
     "output_type": "execute_result"
    }
   ],
   "source": [
    "full_board_check(['#', 'X', 'O', 'X', 'O', '-', 'O', 'X', 'X', '-'])"
   ]
  },
  {
   "cell_type": "markdown",
   "metadata": {},
   "source": [
    "## A function that asks the player if they want to play again and returns a boolean True if they do want to play again."
   ]
  },
  {
   "cell_type": "code",
   "execution_count": 23,
   "metadata": {
    "collapsed": false
   },
   "outputs": [],
   "source": [
    "def replay():\n",
    "    play = input('Would you like to play again: Yes or No? ')\n",
    "    while True:\n",
    "        if play in ['Yes','No']:\n",
    "            break\n",
    "        play = input('Incorrect Answer. Would you like to play again: Yes or No? ')\n",
    "    \n",
    "    if play == 'Yes':\n",
    "        return True\n",
    "    elif play == 'No':\n",
    "        return False\n",
    "    "
   ]
  },
  {
   "cell_type": "markdown",
   "metadata": {},
   "source": [
    "## Main code to run the Tic Tac Toe game!!"
   ]
  },
  {
   "cell_type": "code",
   "execution_count": 25,
   "metadata": {
    "collapsed": false
   },
   "outputs": [
    {
     "name": "stdout",
     "output_type": "stream",
     "text": [
      "\n",
      "\n",
      "O X O \n",
      "\n",
      "- X - \n",
      "\n",
      "- X - \n",
      "\n",
      "Player 2 wins! \n",
      "Would you like to play again: Yes or No? No\n"
     ]
    }
   ],
   "source": [
    "print('Welcome to Tic Tac Toe!')\n",
    "\n",
    "while True:\n",
    "    # Set the game up here\n",
    "    # pass\n",
    "    board = ['#','-','-','-','-','-','-','-','-','-']\n",
    "    #display_board(board)\n",
    "    print('Rules: Position Values')\n",
    "    display_board(['#','1','2','3','4','5','6','7','8','9'])\n",
    "    \n",
    "    # Randomly choose first player\n",
    "    playerfirst = choose_first()\n",
    "    # First player choose 'X' or 'O'\n",
    "    playerinfo = player_input(playerfirst)\n",
    "    playersecond = playerinfo[1][0]\n",
    "    \n",
    "\n",
    "    \n",
    "    while True:\n",
    "        # First Player First Turn\n",
    "        position = player_choice(board, playerfirst)\n",
    "        clear_output()\n",
    "        place_marker(board, playerinfo[0][1] ,position)\n",
    "        display_board(board)\n",
    "        \n",
    "        \n",
    "        if win_check(board,playerinfo[0]) or win_check(board,playerinfo[1]):\n",
    "            break\n",
    "        elif full_board_check(board):\n",
    "            break\n",
    "           \n",
    "        # Second Player Turn\n",
    "        position = player_choice(board, playersecond)\n",
    "        clear_output()\n",
    "        place_marker(board, playerinfo[1][1] ,position)\n",
    "        display_board(board)\n",
    "        \n",
    "        if win_check(board,playerinfo[0]) or win_check(board,playerinfo[1]):\n",
    "            break\n",
    "        elif full_board_check(board):\n",
    "            break\n",
    "        \n",
    "    if not replay():\n",
    "        break\n",
    "        "
   ]
  }
 ],
 "metadata": {
  "anaconda-cloud": {},
  "kernelspec": {
   "display_name": "Python [conda env:Anaconda3]",
   "language": "python",
   "name": "conda-env-Anaconda3-py"
  },
  "language_info": {
   "codemirror_mode": {
    "name": "ipython",
    "version": 3
   },
   "file_extension": ".py",
   "mimetype": "text/x-python",
   "name": "python",
   "nbconvert_exporter": "python",
   "pygments_lexer": "ipython3",
   "version": "3.5.2"
  }
 },
 "nbformat": 4,
 "nbformat_minor": 1
}
